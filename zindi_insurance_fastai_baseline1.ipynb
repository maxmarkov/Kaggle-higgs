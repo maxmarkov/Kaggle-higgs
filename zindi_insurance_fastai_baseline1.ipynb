{
  "nbformat": 4,
  "nbformat_minor": 0,
  "metadata": {
    "colab": {
      "name": "zindi_insurance_fastai_baseline1.ipynb",
      "provenance": [],
      "collapsed_sections": [],
      "authorship_tag": "ABX9TyPzPHoCPUhDmHDGl1PhGKNJ",
      "include_colab_link": true
    },
    "kernelspec": {
      "name": "python3",
      "display_name": "Python 3"
    }
  },
  "cells": [
    {
      "cell_type": "markdown",
      "metadata": {
        "id": "view-in-github",
        "colab_type": "text"
      },
      "source": [
        "<a href=\"https://colab.research.google.com/github/maxmarkov/Kaggle-higgs/blob/master/zindi_insurance_fastai_baseline1.ipynb\" target=\"_parent\"><img src=\"https://colab.research.google.com/assets/colab-badge.svg\" alt=\"Open In Colab\"/></a>"
      ]
    },
    {
      "cell_type": "markdown",
      "metadata": {
        "id": "OqP2tTXyo9NB",
        "colab_type": "text"
      },
      "source": [
        "# Zimnat Insurance Recommendation Challenge\n",
        "\n",
        "The main objective of this notebook is to get familiar with [fastai](https://www.fast.ai/) (version 2) library working on [tabular](https://docs.fast.ai/tabular.core) data.\n",
        "\n",
        "[Competition link](https://zindi.africa/competitions/zimnat-insurance-recommendation-challenge)"
      ]
    },
    {
      "cell_type": "markdown",
      "metadata": {
        "id": "1lcXttbBkFD3",
        "colab_type": "text"
      },
      "source": [
        "Some baselines with CatBoost: [github](https://github.com/Tixonmavrin/Zindi-Zimnat-Insurance-Recommendation-Challenge/blob/master/Baseline1.ipynb)"
      ]
    },
    {
      "cell_type": "markdown",
      "metadata": {
        "id": "G9Rmtf_XYEfO",
        "colab_type": "text"
      },
      "source": [
        "## 1. Import modules and get data from google drive."
      ]
    },
    {
      "cell_type": "markdown",
      "metadata": {
        "id": "UzXCygsQX8Kj",
        "colab_type": "text"
      },
      "source": [
        "Import the main external libraries."
      ]
    },
    {
      "cell_type": "code",
      "metadata": {
        "id": "IsO7HsfwV21l",
        "colab_type": "code",
        "colab": {}
      },
      "source": [
        "import os\n",
        "import numpy as np\n",
        "import pandas as pd\n",
        "import matplotlib.pyplot as plt\n",
        "% matplotlib inline\n",
        "\n",
        "from IPython.display import clear_output"
      ],
      "execution_count": 1,
      "outputs": []
    },
    {
      "cell_type": "markdown",
      "metadata": {
        "id": "ytySEVYYAIKe",
        "colab_type": "text"
      },
      "source": [
        "Install [PyDrive](https://github.com/gsuitedevs/PyDrive) and authenticate the user. [Documentation](https://gsuitedevs.github.io/PyDrive/docs/build/html/index.html)."
      ]
    },
    {
      "cell_type": "code",
      "metadata": {
        "id": "bi8Yfxfj_-rN",
        "colab_type": "code",
        "colab": {}
      },
      "source": [
        "!pip install -U -q PyDrive\n",
        "from pydrive.auth import GoogleAuth\n",
        "from pydrive.drive import GoogleDrive\n",
        "\n",
        "from google.colab import auth\n",
        "auth.authenticate_user()\n",
        "\n",
        "from oauth2client.client import GoogleCredentials\n",
        "gauth = GoogleAuth()\n",
        "gauth.credentials = GoogleCredentials.get_application_default()\n",
        "drive = GoogleDrive(gauth)"
      ],
      "execution_count": 2,
      "outputs": []
    },
    {
      "cell_type": "markdown",
      "metadata": {
        "id": "6DkVNaz7GwE-",
        "colab_type": "text"
      },
      "source": [
        "Look for the file to get an ID."
      ]
    },
    {
      "cell_type": "code",
      "metadata": {
        "id": "LTihrdabGq9Y",
        "colab_type": "code",
        "colab": {
          "base_uri": "https://localhost:8080/",
          "height": 86
        },
        "outputId": "d8694610-c072-4486-86d4-05e5b0902536"
      },
      "source": [
        "files = drive.ListFile({'q': 'trashed=false'}).GetList()\n",
        "file_list = ['Train.csv', 'Test.csv', 'SampleSubmission.csv', 'VariableDefinitions.txt']\n",
        "\n",
        "for file in files:\n",
        "   if file['title'] in file_list:\n",
        "      print(file['title'], file['id'])"
      ],
      "execution_count": 3,
      "outputs": [
        {
          "output_type": "stream",
          "text": [
            "Train.csv 1S3DHJCd9wVI7s5ku6JusgIHHml5k5CvS\n",
            "Test.csv 1-E1yMd_lv0p5pPfzT198vCQ_utI67xKK\n",
            "VariableDefinitions.txt 1uDY-N9rlfx9KOYMclhIaW0nL7MlFe2kh\n",
            "SampleSubmission.csv 1vFhazHBqD7TKMO1ZwP1ZXZEW2Zmgwq-Y\n"
          ],
          "name": "stdout"
        }
      ]
    },
    {
      "cell_type": "markdown",
      "metadata": {
        "id": "0Abv4CRYKfLk",
        "colab_type": "text"
      },
      "source": [
        "Download files from google drive"
      ]
    },
    {
      "cell_type": "code",
      "metadata": {
        "id": "V9v-BKIDCObB",
        "colab_type": "code",
        "colab": {}
      },
      "source": [
        "FOLDER = 'DATA_ZINDI'\n",
        "if os.path.isdir(FOLDER) == False:\n",
        "   os.mkdir(FOLDER)\n",
        "\n",
        "file_train = drive.CreateFile({'id': '1S3DHJCd9wVI7s5ku6JusgIHHml5k5CvS'})\n",
        "file_train.GetContentFile(FOLDER+'/Train.csv')\n",
        "\n",
        "file_test = drive.CreateFile({'id': '1-E1yMd_lv0p5pPfzT198vCQ_utI67xKK'})\n",
        "file_test.GetContentFile(FOLDER+'/Test.csv')\n",
        "\n",
        "file_submit = drive.CreateFile({'id': '1vFhazHBqD7TKMO1ZwP1ZXZEW2Zmgwq-Y'})\n",
        "file_submit.GetContentFile(FOLDER+'/SampleSubmission.csv')\n",
        "\n",
        "file_read = drive.CreateFile({'id': '1uDY-N9rlfx9KOYMclhIaW0nL7MlFe2kh'})\n",
        "file_read.GetContentFile(FOLDER+'/VariableDefinitions.txt')"
      ],
      "execution_count": 4,
      "outputs": []
    },
    {
      "cell_type": "markdown",
      "metadata": {
        "id": "erTTTVt6Yavf",
        "colab_type": "text"
      },
      "source": [
        "Read test and train data and save then into dataframe."
      ]
    },
    {
      "cell_type": "code",
      "metadata": {
        "id": "t1wsdjMeVaNW",
        "colab_type": "code",
        "colab": {}
      },
      "source": [
        "train = pd.read_csv(FOLDER+'/Train.csv')\n",
        "train['number_of_products'] = train.iloc[:, -21:-1].sum(axis=1) # total number of products recommended for one single customer\n",
        "\n",
        "test = pd.read_csv(FOLDER+'/Test.csv')\n",
        "test['number_of_products'] = test.iloc[:, -21:-1].sum(axis=1)"
      ],
      "execution_count": 5,
      "outputs": []
    },
    {
      "cell_type": "code",
      "metadata": {
        "id": "_OPUe9q5LtPj",
        "colab_type": "code",
        "colab": {
          "base_uri": "https://localhost:8080/",
          "height": 132
        },
        "outputId": "155032b9-f4e6-4f24-8ac8-bbd6354d89b8"
      },
      "source": [
        "train.head(2)"
      ],
      "execution_count": 6,
      "outputs": [
        {
          "output_type": "execute_result",
          "data": {
            "text/html": [
              "<div>\n",
              "<style scoped>\n",
              "    .dataframe tbody tr th:only-of-type {\n",
              "        vertical-align: middle;\n",
              "    }\n",
              "\n",
              "    .dataframe tbody tr th {\n",
              "        vertical-align: top;\n",
              "    }\n",
              "\n",
              "    .dataframe thead th {\n",
              "        text-align: right;\n",
              "    }\n",
              "</style>\n",
              "<table border=\"1\" class=\"dataframe\">\n",
              "  <thead>\n",
              "    <tr style=\"text-align: right;\">\n",
              "      <th></th>\n",
              "      <th>ID</th>\n",
              "      <th>join_date</th>\n",
              "      <th>sex</th>\n",
              "      <th>marital_status</th>\n",
              "      <th>birth_year</th>\n",
              "      <th>branch_code</th>\n",
              "      <th>occupation_code</th>\n",
              "      <th>occupation_category_code</th>\n",
              "      <th>P5DA</th>\n",
              "      <th>RIBP</th>\n",
              "      <th>8NN1</th>\n",
              "      <th>7POT</th>\n",
              "      <th>66FJ</th>\n",
              "      <th>GYSR</th>\n",
              "      <th>SOP4</th>\n",
              "      <th>RVSZ</th>\n",
              "      <th>PYUQ</th>\n",
              "      <th>LJR9</th>\n",
              "      <th>N2MW</th>\n",
              "      <th>AHXO</th>\n",
              "      <th>BSTQ</th>\n",
              "      <th>FM3X</th>\n",
              "      <th>K6QO</th>\n",
              "      <th>QBOL</th>\n",
              "      <th>JWFN</th>\n",
              "      <th>JZ9D</th>\n",
              "      <th>J9JW</th>\n",
              "      <th>GHYX</th>\n",
              "      <th>ECY3</th>\n",
              "      <th>number_of_products</th>\n",
              "    </tr>\n",
              "  </thead>\n",
              "  <tbody>\n",
              "    <tr>\n",
              "      <th>0</th>\n",
              "      <td>4WKQSBB</td>\n",
              "      <td>1/2/2019</td>\n",
              "      <td>F</td>\n",
              "      <td>M</td>\n",
              "      <td>1987</td>\n",
              "      <td>1X1H</td>\n",
              "      <td>2A7I</td>\n",
              "      <td>T4MS</td>\n",
              "      <td>0</td>\n",
              "      <td>0</td>\n",
              "      <td>0</td>\n",
              "      <td>0</td>\n",
              "      <td>0</td>\n",
              "      <td>0</td>\n",
              "      <td>0</td>\n",
              "      <td>1</td>\n",
              "      <td>0</td>\n",
              "      <td>0</td>\n",
              "      <td>0</td>\n",
              "      <td>0</td>\n",
              "      <td>0</td>\n",
              "      <td>0</td>\n",
              "      <td>1</td>\n",
              "      <td>0</td>\n",
              "      <td>0</td>\n",
              "      <td>0</td>\n",
              "      <td>0</td>\n",
              "      <td>0</td>\n",
              "      <td>0</td>\n",
              "      <td>2</td>\n",
              "    </tr>\n",
              "    <tr>\n",
              "      <th>1</th>\n",
              "      <td>CP5S02H</td>\n",
              "      <td>1/6/2019</td>\n",
              "      <td>F</td>\n",
              "      <td>M</td>\n",
              "      <td>1981</td>\n",
              "      <td>UAOD</td>\n",
              "      <td>2A7I</td>\n",
              "      <td>T4MS</td>\n",
              "      <td>0</td>\n",
              "      <td>0</td>\n",
              "      <td>0</td>\n",
              "      <td>0</td>\n",
              "      <td>0</td>\n",
              "      <td>0</td>\n",
              "      <td>0</td>\n",
              "      <td>1</td>\n",
              "      <td>0</td>\n",
              "      <td>0</td>\n",
              "      <td>0</td>\n",
              "      <td>0</td>\n",
              "      <td>0</td>\n",
              "      <td>0</td>\n",
              "      <td>1</td>\n",
              "      <td>0</td>\n",
              "      <td>0</td>\n",
              "      <td>0</td>\n",
              "      <td>0</td>\n",
              "      <td>0</td>\n",
              "      <td>0</td>\n",
              "      <td>2</td>\n",
              "    </tr>\n",
              "  </tbody>\n",
              "</table>\n",
              "</div>"
            ],
            "text/plain": [
              "        ID join_date sex marital_status  ...  J9JW GHYX ECY3 number_of_products\n",
              "0  4WKQSBB  1/2/2019   F              M  ...     0    0    0                  2\n",
              "1  CP5S02H  1/6/2019   F              M  ...     0    0    0                  2\n",
              "\n",
              "[2 rows x 30 columns]"
            ]
          },
          "metadata": {
            "tags": []
          },
          "execution_count": 6
        }
      ]
    },
    {
      "cell_type": "code",
      "metadata": {
        "id": "INyIT3B1WyMO",
        "colab_type": "code",
        "colab": {
          "base_uri": "https://localhost:8080/",
          "height": 132
        },
        "outputId": "ce755c18-5abb-42aa-a012-2657e45b8bd7"
      },
      "source": [
        "test.head(2)"
      ],
      "execution_count": 7,
      "outputs": [
        {
          "output_type": "execute_result",
          "data": {
            "text/html": [
              "<div>\n",
              "<style scoped>\n",
              "    .dataframe tbody tr th:only-of-type {\n",
              "        vertical-align: middle;\n",
              "    }\n",
              "\n",
              "    .dataframe tbody tr th {\n",
              "        vertical-align: top;\n",
              "    }\n",
              "\n",
              "    .dataframe thead th {\n",
              "        text-align: right;\n",
              "    }\n",
              "</style>\n",
              "<table border=\"1\" class=\"dataframe\">\n",
              "  <thead>\n",
              "    <tr style=\"text-align: right;\">\n",
              "      <th></th>\n",
              "      <th>ID</th>\n",
              "      <th>join_date</th>\n",
              "      <th>sex</th>\n",
              "      <th>marital_status</th>\n",
              "      <th>birth_year</th>\n",
              "      <th>branch_code</th>\n",
              "      <th>occupation_code</th>\n",
              "      <th>occupation_category_code</th>\n",
              "      <th>P5DA</th>\n",
              "      <th>RIBP</th>\n",
              "      <th>8NN1</th>\n",
              "      <th>7POT</th>\n",
              "      <th>66FJ</th>\n",
              "      <th>GYSR</th>\n",
              "      <th>SOP4</th>\n",
              "      <th>RVSZ</th>\n",
              "      <th>PYUQ</th>\n",
              "      <th>LJR9</th>\n",
              "      <th>N2MW</th>\n",
              "      <th>AHXO</th>\n",
              "      <th>BSTQ</th>\n",
              "      <th>FM3X</th>\n",
              "      <th>K6QO</th>\n",
              "      <th>QBOL</th>\n",
              "      <th>JWFN</th>\n",
              "      <th>JZ9D</th>\n",
              "      <th>J9JW</th>\n",
              "      <th>GHYX</th>\n",
              "      <th>ECY3</th>\n",
              "      <th>number_of_products</th>\n",
              "    </tr>\n",
              "  </thead>\n",
              "  <tbody>\n",
              "    <tr>\n",
              "      <th>0</th>\n",
              "      <td>F86J5PC</td>\n",
              "      <td>1/12/2018</td>\n",
              "      <td>M</td>\n",
              "      <td>M</td>\n",
              "      <td>1984</td>\n",
              "      <td>94KC</td>\n",
              "      <td>DZRV</td>\n",
              "      <td>90QI</td>\n",
              "      <td>0</td>\n",
              "      <td>0</td>\n",
              "      <td>0</td>\n",
              "      <td>0</td>\n",
              "      <td>0</td>\n",
              "      <td>0</td>\n",
              "      <td>0</td>\n",
              "      <td>1</td>\n",
              "      <td>0</td>\n",
              "      <td>0</td>\n",
              "      <td>0</td>\n",
              "      <td>0</td>\n",
              "      <td>0</td>\n",
              "      <td>0</td>\n",
              "      <td>0</td>\n",
              "      <td>0</td>\n",
              "      <td>0</td>\n",
              "      <td>0</td>\n",
              "      <td>0</td>\n",
              "      <td>0</td>\n",
              "      <td>0</td>\n",
              "      <td>1</td>\n",
              "    </tr>\n",
              "    <tr>\n",
              "      <th>1</th>\n",
              "      <td>H6141K3</td>\n",
              "      <td>1/10/2019</td>\n",
              "      <td>M</td>\n",
              "      <td>M</td>\n",
              "      <td>1996</td>\n",
              "      <td>1X1H</td>\n",
              "      <td>J9SY</td>\n",
              "      <td>90QI</td>\n",
              "      <td>0</td>\n",
              "      <td>0</td>\n",
              "      <td>0</td>\n",
              "      <td>0</td>\n",
              "      <td>0</td>\n",
              "      <td>0</td>\n",
              "      <td>0</td>\n",
              "      <td>1</td>\n",
              "      <td>0</td>\n",
              "      <td>0</td>\n",
              "      <td>0</td>\n",
              "      <td>0</td>\n",
              "      <td>0</td>\n",
              "      <td>0</td>\n",
              "      <td>1</td>\n",
              "      <td>0</td>\n",
              "      <td>0</td>\n",
              "      <td>0</td>\n",
              "      <td>0</td>\n",
              "      <td>0</td>\n",
              "      <td>0</td>\n",
              "      <td>2</td>\n",
              "    </tr>\n",
              "  </tbody>\n",
              "</table>\n",
              "</div>"
            ],
            "text/plain": [
              "        ID  join_date sex marital_status  ...  J9JW GHYX ECY3 number_of_products\n",
              "0  F86J5PC  1/12/2018   M              M  ...     0    0    0                  1\n",
              "1  H6141K3  1/10/2019   M              M  ...     0    0    0                  2\n",
              "\n",
              "[2 rows x 30 columns]"
            ]
          },
          "metadata": {
            "tags": []
          },
          "execution_count": 7
        }
      ]
    },
    {
      "cell_type": "markdown",
      "metadata": {
        "id": "9EyKfb9vr-DA",
        "colab_type": "text"
      },
      "source": [
        "## 2. Study the data"
      ]
    },
    {
      "cell_type": "markdown",
      "metadata": {
        "id": "Vr9q9V-OcGMF",
        "colab_type": "text"
      },
      "source": [
        "Histogram with the number of products per client"
      ]
    },
    {
      "cell_type": "code",
      "metadata": {
        "id": "OdOmG9pXaWqy",
        "colab_type": "code",
        "colab": {
          "base_uri": "https://localhost:8080/",
          "height": 381
        },
        "outputId": "e3a31675-e289-4e4a-e596-45e58abd45ef"
      },
      "source": [
        "fig, axes = plt.subplots(1, 2, figsize=(15,5))\n",
        "\n",
        "train.hist(column='number_of_products', label='Train', ax=axes[0], bins=7)\n",
        "test.hist(column='number_of_products', label='Test', ax=axes[1], color='r', bins=7)\n",
        "\n",
        "axes[0].set_xlim([0,7])\n",
        "axes[1].set_xlim([0,7])\n",
        "\n",
        "axes[0].set_xlabel('Number of products per customer', fontsize=15)\n",
        "axes[1].set_xlabel('Number of products per customer', fontsize=15)\n",
        "\n",
        "axes[0].set_ylabel('Number of customers', fontsize=15)\n",
        "axes[1].set_ylabel('Number of customers', fontsize=15)\n",
        "\n",
        "axes[0].set_title(\"Train data\", fontsize=24)\n",
        "axes[1].set_title(\"Test data\", fontsize=24)\n",
        "\n",
        "axes[0].legend(fontsize=15)\n",
        "axes[1].legend(fontsize=15)"
      ],
      "execution_count": 8,
      "outputs": [
        {
          "output_type": "execute_result",
          "data": {
            "text/plain": [
              "<matplotlib.legend.Legend at 0x7f8f9e1496d8>"
            ]
          },
          "metadata": {
            "tags": []
          },
          "execution_count": 8
        },
        {
          "output_type": "display_data",
          "data": {
            "image/png": "[encoded data removed]",
            "text/plain": [
              "<Figure size 1080x360 with 2 Axes>"
            ]
          },
          "metadata": {
            "tags": [],
            "needs_background": "light"
          }
        }
      ]
    },
    {
      "cell_type": "markdown",
      "metadata": {
        "id": "LZVkErRQlDlZ",
        "colab_type": "text"
      },
      "source": [
        "### Show the pie chart"
      ]
    },
    {
      "cell_type": "code",
      "metadata": {
        "id": "GUrhlNL9hmIt",
        "colab_type": "code",
        "colab": {}
      },
      "source": [
        "products_train = train.iloc[:, -21:-1].sum(axis=0)\n",
        "products_test = test.iloc[:, -21:-1].sum(axis=0)"
      ],
      "execution_count": 9,
      "outputs": []
    },
    {
      "cell_type": "code",
      "metadata": {
        "id": "Jo2usLSbi_Sc",
        "colab_type": "code",
        "colab": {
          "base_uri": "https://localhost:8080/",
          "height": 399
        },
        "outputId": "a706f5cc-fc41-4074-e401-14aad5b312f8"
      },
      "source": [
        "def my_autopct(pct):\n",
        "    return ('%1.1f%%' % pct) if pct > 5 else ''\n",
        "\n",
        "fig, axes = plt.subplots(1, 2, figsize=(20,6))\n",
        "\n",
        "products_train.plot.pie(ax=axes[0], autopct=my_autopct)\n",
        "products_test.plot.pie(ax=axes[1], autopct=my_autopct)\n",
        "\n",
        "axes[0].set_title(\"Train data\", fontsize=24)\n",
        "axes[1].set_title(\"Test data\", fontsize=24)\n",
        "\n",
        "axes[0].legend(bbox_to_anchor=(-0.1,1.0))\n",
        "axes[1].legend(bbox_to_anchor=(-0.1,1.0))\n",
        "\n",
        "axes[0].set_ylabel('')\n",
        "axes[1].set_ylabel('')"
      ],
      "execution_count": 10,
      "outputs": [
        {
          "output_type": "execute_result",
          "data": {
            "text/plain": [
              "Text(0, 0.5, '')"
            ]
          },
          "metadata": {
            "tags": []
          },
          "execution_count": 10
        },
        {
          "output_type": "display_data",
          "data": {
            "image/png": "[encoded data removed]",
            "text/plain": [
              "<Figure size 1440x432 with 2 Axes>"
            ]
          },
          "metadata": {
            "tags": []
          }
        }
      ]
    },
    {
      "cell_type": "markdown",
      "metadata": {
        "id": "wWYC42-xllLr",
        "colab_type": "text"
      },
      "source": [
        "3 products: RVSZ, K6QO and QBOL contribute about 80% to the total chart"
      ]
    },
    {
      "cell_type": "code",
      "metadata": {
        "id": "XLKGHWxVlHuW",
        "colab_type": "code",
        "colab": {
          "base_uri": "https://localhost:8080/",
          "height": 34
        },
        "outputId": "52dc916d-7e72-4a93-9b1d-ddb200e1f866"
      },
      "source": [
        "(products_train['RVSZ']+products_train['K6QO']+products_train['QBOL'])/products_train.sum()"
      ],
      "execution_count": 11,
      "outputs": [
        {
          "output_type": "execute_result",
          "data": {
            "text/plain": [
              "0.8111531675538733"
            ]
          },
          "metadata": {
            "tags": []
          },
          "execution_count": 11
        }
      ]
    },
    {
      "cell_type": "code",
      "metadata": {
        "id": "5GDuHdrBmFAq",
        "colab_type": "code",
        "colab": {
          "base_uri": "https://localhost:8080/",
          "height": 34
        },
        "outputId": "4365921b-412f-40cf-bb2d-58d3fef1d0e0"
      },
      "source": [
        "(products_test['RVSZ']+products_test['K6QO']+products_test['QBOL'])/products_test.sum()"
      ],
      "execution_count": 12,
      "outputs": [
        {
          "output_type": "execute_result",
          "data": {
            "text/plain": [
              "0.797945205479452"
            ]
          },
          "metadata": {
            "tags": []
          },
          "execution_count": 12
        }
      ]
    },
    {
      "cell_type": "markdown",
      "metadata": {
        "id": "sSzEb0qMmjr6",
        "colab_type": "text"
      },
      "source": [
        "## 3. Data preprocessing\n",
        "\n",
        "### Competition objectives\n",
        "\n",
        "For each customer ID, for each product, you must predict the <u>**likelihood**</u> that that product is one in use by the customer. <u>**Notice that the sample submission contains 1s for the products that are included in the test set, so that you can focus on the unknown products.**</u>\n",
        "\n",
        "Leave your predictions as probabilities with values between 0 and 1 and do not round them to 0s or 1s.\n",
        "\n",
        "\n",
        "### Submisstion format\n",
        "\n",
        "Lets see how the submission file looks like."
      ]
    },
    {
      "cell_type": "code",
      "metadata": {
        "id": "a_ojM5xHnty-",
        "colab_type": "code",
        "colab": {
          "base_uri": "https://localhost:8080/",
          "height": 206
        },
        "outputId": "f38c27b9-0a88-420e-c96b-4d734542ff56"
      },
      "source": [
        "submission = pd.read_csv(FOLDER+'/SampleSubmission.csv')\n",
        "submission.head()"
      ],
      "execution_count": 13,
      "outputs": [
        {
          "output_type": "execute_result",
          "data": {
            "text/html": [
              "<div>\n",
              "<style scoped>\n",
              "    .dataframe tbody tr th:only-of-type {\n",
              "        vertical-align: middle;\n",
              "    }\n",
              "\n",
              "    .dataframe tbody tr th {\n",
              "        vertical-align: top;\n",
              "    }\n",
              "\n",
              "    .dataframe thead th {\n",
              "        text-align: right;\n",
              "    }\n",
              "</style>\n",
              "<table border=\"1\" class=\"dataframe\">\n",
              "  <thead>\n",
              "    <tr style=\"text-align: right;\">\n",
              "      <th></th>\n",
              "      <th>ID X PCODE</th>\n",
              "      <th>Label</th>\n",
              "    </tr>\n",
              "  </thead>\n",
              "  <tbody>\n",
              "    <tr>\n",
              "      <th>0</th>\n",
              "      <td>F86J5PC X P5DA</td>\n",
              "      <td>0</td>\n",
              "    </tr>\n",
              "    <tr>\n",
              "      <th>1</th>\n",
              "      <td>F86J5PC X RIBP</td>\n",
              "      <td>0</td>\n",
              "    </tr>\n",
              "    <tr>\n",
              "      <th>2</th>\n",
              "      <td>F86J5PC X 8NN1</td>\n",
              "      <td>0</td>\n",
              "    </tr>\n",
              "    <tr>\n",
              "      <th>3</th>\n",
              "      <td>F86J5PC X 7POT</td>\n",
              "      <td>0</td>\n",
              "    </tr>\n",
              "    <tr>\n",
              "      <th>4</th>\n",
              "      <td>F86J5PC X 66FJ</td>\n",
              "      <td>0</td>\n",
              "    </tr>\n",
              "  </tbody>\n",
              "</table>\n",
              "</div>"
            ],
            "text/plain": [
              "       ID X PCODE  Label\n",
              "0  F86J5PC X P5DA      0\n",
              "1  F86J5PC X RIBP      0\n",
              "2  F86J5PC X 8NN1      0\n",
              "3  F86J5PC X 7POT      0\n",
              "4  F86J5PC X 66FJ      0"
            ]
          },
          "metadata": {
            "tags": []
          },
          "execution_count": 13
        }
      ]
    },
    {
      "cell_type": "markdown",
      "metadata": {
        "id": "DrRyJ7VWx63E",
        "colab_type": "text"
      },
      "source": [
        "### Train data\n",
        "\n",
        "In the original data, mutliple products might be recommended for a single customer. Below we split our data in such a way that each row corresponds to a <u>single recommendation</u>. Each row includes all customer's data (feature vectors) and a 'target' column with the true recommendation. There might be multiple rows with the same customer's data but with different recommendations. \n",
        "\n",
        "Let's give an example. The old format is\n",
        "\n",
        "|   ID   |  data    |   P5DA | RVSZ   |  K6QO    |\n",
        "|------|------|------|------|------|\n",
        "|   CP5S02H  | data | 0 | 1  |  1  |\n",
        "\n",
        "The new dataframe contains all data (x_train) with target's labels\n",
        "\n",
        "|   ID   |  data    | target |\n",
        "|------|------|------|\n",
        "|CP5S02H | data | RVSZ| \n",
        "|CP5S02H | data | K6QO|\n",
        "\n"
      ]
    },
    {
      "cell_type": "code",
      "metadata": {
        "id": "prbrKs3O2m3d",
        "colab_type": "code",
        "colab": {
          "base_uri": "https://localhost:8080/",
          "height": 112
        },
        "outputId": "10467d91-d98b-42bd-cbfe-3013814dffcc"
      },
      "source": [
        "def modify_dataframe(df):\n",
        "  '''\n",
        "  Function to modify the initial train dataframe into in the format with single recommendation per product per customer. \n",
        "  Note, that the new dataframe has the legth corresponding to len(old_dataframe)*total_number_of_recommendations\n",
        "  '''\n",
        "  if df.columns[-1] == 'number_of_products':\n",
        "     df = df.drop(columns=['number_of_products'])\n",
        "\n",
        "  # Column names. Add product id name of the recommended product.\n",
        "  columns = list(df.columns[:8])+['target']\n",
        "\n",
        "  # split part\n",
        "  new_list = []\n",
        "  for i, row in enumerate(df.values):\n",
        "    idxs = list(np.where(row==1))\n",
        "    for idx in idxs[0]:            \n",
        "      new_list.append(np.append(row[:8],df.columns[idx]))\n",
        "\n",
        "  df_new = pd.DataFrame(new_list, columns=columns)\n",
        "\n",
        "  return(df_new)\n",
        "\n",
        "# modify the initial dataframe\n",
        "x_train = modify_dataframe(train)\n",
        "\n",
        "x_train.head(2)"
      ],
      "execution_count": 14,
      "outputs": [
        {
          "output_type": "execute_result",
          "data": {
            "text/html": [
              "<div>\n",
              "<style scoped>\n",
              "    .dataframe tbody tr th:only-of-type {\n",
              "        vertical-align: middle;\n",
              "    }\n",
              "\n",
              "    .dataframe tbody tr th {\n",
              "        vertical-align: top;\n",
              "    }\n",
              "\n",
              "    .dataframe thead th {\n",
              "        text-align: right;\n",
              "    }\n",
              "</style>\n",
              "<table border=\"1\" class=\"dataframe\">\n",
              "  <thead>\n",
              "    <tr style=\"text-align: right;\">\n",
              "      <th></th>\n",
              "      <th>ID</th>\n",
              "      <th>join_date</th>\n",
              "      <th>sex</th>\n",
              "      <th>marital_status</th>\n",
              "      <th>birth_year</th>\n",
              "      <th>branch_code</th>\n",
              "      <th>occupation_code</th>\n",
              "      <th>occupation_category_code</th>\n",
              "      <th>target</th>\n",
              "    </tr>\n",
              "  </thead>\n",
              "  <tbody>\n",
              "    <tr>\n",
              "      <th>0</th>\n",
              "      <td>4WKQSBB</td>\n",
              "      <td>1/2/2019</td>\n",
              "      <td>F</td>\n",
              "      <td>M</td>\n",
              "      <td>1987</td>\n",
              "      <td>1X1H</td>\n",
              "      <td>2A7I</td>\n",
              "      <td>T4MS</td>\n",
              "      <td>RVSZ</td>\n",
              "    </tr>\n",
              "    <tr>\n",
              "      <th>1</th>\n",
              "      <td>4WKQSBB</td>\n",
              "      <td>1/2/2019</td>\n",
              "      <td>F</td>\n",
              "      <td>M</td>\n",
              "      <td>1987</td>\n",
              "      <td>1X1H</td>\n",
              "      <td>2A7I</td>\n",
              "      <td>T4MS</td>\n",
              "      <td>K6QO</td>\n",
              "    </tr>\n",
              "  </tbody>\n",
              "</table>\n",
              "</div>"
            ],
            "text/plain": [
              "        ID join_date sex  ... occupation_code  occupation_category_code target\n",
              "0  4WKQSBB  1/2/2019   F  ...            2A7I                      T4MS   RVSZ\n",
              "1  4WKQSBB  1/2/2019   F  ...            2A7I                      T4MS   K6QO\n",
              "\n",
              "[2 rows x 9 columns]"
            ]
          },
          "metadata": {
            "tags": []
          },
          "execution_count": 14
        }
      ]
    },
    {
      "cell_type": "markdown",
      "metadata": {
        "id": "6XIrHKhBvNFa",
        "colab_type": "text"
      },
      "source": [
        "### Test data\n",
        "\n",
        "Initial test data has a similar format with the train data. But now we would like to modify it in a slightly different way.   \n",
        "\n",
        "The first output (x_test) dataframe have exactly the same format as the train dataframe with data. This dataframe will be used for inference to predict the likelihood that product will be in use by the customer. The second dataframe has a form similar to the one of the submission file.\n",
        "\n",
        "Let's give an example. The old format is\n",
        "\n",
        "|   ID   |  data    |  RVSZ    |  K6QO    |  P5DA |\n",
        "|------|------|------|------|------|\n",
        "|   CP5S02H  | data |  1  |  0  | 1 |\n",
        "|   F86J5PC  | data |  0  |  1  | 0 |\t\n",
        "\n",
        "We split it into two dataframes. The first one contains all data (x_train)\n",
        "\n",
        "|   ID   |  data    |\n",
        "|------|------|\n",
        "|CP5S02H | data |\n",
        "|F86J5PC \t | data | \n",
        "\n",
        "and the second one is a target (y_train).\n",
        "\n",
        "|   ID   | Target |\n",
        "|------|------|\n",
        "|CP5S02H X P5DA| 1 |\n",
        "...\n",
        "|CP5S02H X RVSZ| 1 |\n",
        "...\n",
        "|CP5S02H X K6QO| 0 | \n"
      ]
    },
    {
      "cell_type": "code",
      "metadata": {
        "id": "cclcYXPflGtF",
        "colab_type": "code",
        "colab": {}
      },
      "source": [
        "def get_test_target(df):\n",
        "  '''\n",
        "  Function to split the initial test dataframe into the dataframe with data and the dataframe with results. The latter has a format specified in a submission file. \n",
        "  '''\n",
        "  # split part\n",
        "  target_list = []\n",
        "  new_list = []\n",
        "  for i, row in enumerate(df.values):\n",
        "    new_list.append(row[:8])\n",
        "    idxs = range(8,29)\n",
        "    for idx in idxs: \n",
        "      target_list.append(np.append(row[0]+' X '+df.columns[idx],row[idx]))\n",
        "\n",
        "  df_target = pd.DataFrame(target_list, columns=['ID X PCODE', 'target'])\n",
        "  df_new = pd.DataFrame(new_list, columns=df.columns[:8])\n",
        "\n",
        "  return(df_new, df_target)\n",
        "\n",
        "# Pandas index object with the product's names\n",
        "product_names = list(test.columns[8:-1])\n",
        "\n",
        "# modify the initial dataframe\n",
        "x_test, y_test_target = get_test_target(test)"
      ],
      "execution_count": 15,
      "outputs": []
    },
    {
      "cell_type": "code",
      "metadata": {
        "id": "s9_HXWQhtu0D",
        "colab_type": "code",
        "colab": {
          "base_uri": "https://localhost:8080/",
          "height": 112
        },
        "outputId": "aef9fc94-bd08-479b-d515-f9e154efcfc0"
      },
      "source": [
        "x_test.head(2)"
      ],
      "execution_count": 16,
      "outputs": [
        {
          "output_type": "execute_result",
          "data": {
            "text/html": [
              "<div>\n",
              "<style scoped>\n",
              "    .dataframe tbody tr th:only-of-type {\n",
              "        vertical-align: middle;\n",
              "    }\n",
              "\n",
              "    .dataframe tbody tr th {\n",
              "        vertical-align: top;\n",
              "    }\n",
              "\n",
              "    .dataframe thead th {\n",
              "        text-align: right;\n",
              "    }\n",
              "</style>\n",
              "<table border=\"1\" class=\"dataframe\">\n",
              "  <thead>\n",
              "    <tr style=\"text-align: right;\">\n",
              "      <th></th>\n",
              "      <th>ID</th>\n",
              "      <th>join_date</th>\n",
              "      <th>sex</th>\n",
              "      <th>marital_status</th>\n",
              "      <th>birth_year</th>\n",
              "      <th>branch_code</th>\n",
              "      <th>occupation_code</th>\n",
              "      <th>occupation_category_code</th>\n",
              "    </tr>\n",
              "  </thead>\n",
              "  <tbody>\n",
              "    <tr>\n",
              "      <th>0</th>\n",
              "      <td>F86J5PC</td>\n",
              "      <td>1/12/2018</td>\n",
              "      <td>M</td>\n",
              "      <td>M</td>\n",
              "      <td>1984</td>\n",
              "      <td>94KC</td>\n",
              "      <td>DZRV</td>\n",
              "      <td>90QI</td>\n",
              "    </tr>\n",
              "    <tr>\n",
              "      <th>1</th>\n",
              "      <td>H6141K3</td>\n",
              "      <td>1/10/2019</td>\n",
              "      <td>M</td>\n",
              "      <td>M</td>\n",
              "      <td>1996</td>\n",
              "      <td>1X1H</td>\n",
              "      <td>J9SY</td>\n",
              "      <td>90QI</td>\n",
              "    </tr>\n",
              "  </tbody>\n",
              "</table>\n",
              "</div>"
            ],
            "text/plain": [
              "        ID  join_date sex  ... branch_code  occupation_code occupation_category_code\n",
              "0  F86J5PC  1/12/2018   M  ...        94KC             DZRV                     90QI\n",
              "1  H6141K3  1/10/2019   M  ...        1X1H             J9SY                     90QI\n",
              "\n",
              "[2 rows x 8 columns]"
            ]
          },
          "metadata": {
            "tags": []
          },
          "execution_count": 16
        }
      ]
    },
    {
      "cell_type": "code",
      "metadata": {
        "id": "G5UvB_BZhe5f",
        "colab_type": "code",
        "colab": {
          "base_uri": "https://localhost:8080/",
          "height": 112
        },
        "outputId": "5839160d-96bf-4b7f-aef7-0e4c2ae239c3"
      },
      "source": [
        "y_test_target.head(2)"
      ],
      "execution_count": 17,
      "outputs": [
        {
          "output_type": "execute_result",
          "data": {
            "text/html": [
              "<div>\n",
              "<style scoped>\n",
              "    .dataframe tbody tr th:only-of-type {\n",
              "        vertical-align: middle;\n",
              "    }\n",
              "\n",
              "    .dataframe tbody tr th {\n",
              "        vertical-align: top;\n",
              "    }\n",
              "\n",
              "    .dataframe thead th {\n",
              "        text-align: right;\n",
              "    }\n",
              "</style>\n",
              "<table border=\"1\" class=\"dataframe\">\n",
              "  <thead>\n",
              "    <tr style=\"text-align: right;\">\n",
              "      <th></th>\n",
              "      <th>ID X PCODE</th>\n",
              "      <th>target</th>\n",
              "    </tr>\n",
              "  </thead>\n",
              "  <tbody>\n",
              "    <tr>\n",
              "      <th>0</th>\n",
              "      <td>F86J5PC X P5DA</td>\n",
              "      <td>0</td>\n",
              "    </tr>\n",
              "    <tr>\n",
              "      <th>1</th>\n",
              "      <td>F86J5PC X RIBP</td>\n",
              "      <td>0</td>\n",
              "    </tr>\n",
              "  </tbody>\n",
              "</table>\n",
              "</div>"
            ],
            "text/plain": [
              "       ID X PCODE target\n",
              "0  F86J5PC X P5DA      0\n",
              "1  F86J5PC X RIBP      0"
            ]
          },
          "metadata": {
            "tags": []
          },
          "execution_count": 17
        }
      ]
    },
    {
      "cell_type": "markdown",
      "metadata": {
        "id": "Qx7jsdgEBdCi",
        "colab_type": "text"
      },
      "source": [
        "### Clean the data\n",
        "\n",
        "Get rid of NaN values in the 'join_date' column and fix the inconsistency in the 'marital_status' in the train data (replace small 'f' with the capital one)."
      ]
    },
    {
      "cell_type": "code",
      "metadata": {
        "id": "enWZlCFrhZdk",
        "colab_type": "code",
        "colab": {
          "base_uri": "https://localhost:8080/",
          "height": 69
        },
        "outputId": "9f1943de-0220-4e7f-91ea-b8cb6589583a"
      },
      "source": [
        "# one join date is nan\n",
        "print('Number of NaN in train:', x_train['join_date'].isna().sum())\n",
        "print('Number of NaN in test:', x_test['join_date'].isna().sum())\n",
        "x_train['join_date'].fillna('1/1/2020',inplace=True)  # 1 record\n",
        "x_test['join_date'].fillna('1/1/2020',inplace=True)   # 7 records\n",
        "\n",
        "# inconsistency between train and test in marital_status: f must be replaced to F\n",
        "x_train['marital_status'].replace({'f': 'F'}, inplace=True)\n",
        "\n",
        "x_train['marital_status'].unique()"
      ],
      "execution_count": 18,
      "outputs": [
        {
          "output_type": "stream",
          "text": [
            "Number of NaN in train: 7\n",
            "Number of NaN in test: 1\n"
          ],
          "name": "stdout"
        },
        {
          "output_type": "execute_result",
          "data": {
            "text/plain": [
              "array(['M', 'U', 'S', 'W', 'D', 'P', 'R', 'F'], dtype=object)"
            ]
          },
          "metadata": {
            "tags": []
          },
          "execution_count": 18
        }
      ]
    },
    {
      "cell_type": "markdown",
      "metadata": {
        "id": "lH6NXrUrYDfz",
        "colab_type": "text"
      },
      "source": [
        "## 4. Feature engineering\n",
        "\n",
        "Add some new features such as the age of the customer when he/she has signed the insurance contract with the company."
      ]
    },
    {
      "cell_type": "code",
      "metadata": {
        "id": "23HWJzS1YGvu",
        "colab_type": "code",
        "colab": {}
      },
      "source": [
        "# split strain \n",
        "def add_features(df):\n",
        "  new = df['join_date'].str.split(pat='/', expand=True)\n",
        "  nan = type(new[0].unique()[-1])\n",
        "  #df['join_day'] = new[0].astype(int)\n",
        "  df['join_month'] = new[1].astype(int)\n",
        "  df['join_year'] = new[2].astype(int)\n",
        "  df['join_age'] = df['join_year']-df['birth_year'].astype('int')\n",
        "  df = df.drop(columns=['join_date'])\n",
        "  return(df)\n",
        "\n",
        "x_train = add_features(x_train)\n",
        "x_test = add_features(x_test)"
      ],
      "execution_count": 19,
      "outputs": []
    },
    {
      "cell_type": "code",
      "metadata": {
        "id": "7IS0FHLdCO1M",
        "colab_type": "code",
        "colab": {
          "base_uri": "https://localhost:8080/",
          "height": 112
        },
        "outputId": "ecdcc804-3dce-47da-acee-713a2744de67"
      },
      "source": [
        "x_train.head(2)"
      ],
      "execution_count": 20,
      "outputs": [
        {
          "output_type": "execute_result",
          "data": {
            "text/html": [
              "<div>\n",
              "<style scoped>\n",
              "    .dataframe tbody tr th:only-of-type {\n",
              "        vertical-align: middle;\n",
              "    }\n",
              "\n",
              "    .dataframe tbody tr th {\n",
              "        vertical-align: top;\n",
              "    }\n",
              "\n",
              "    .dataframe thead th {\n",
              "        text-align: right;\n",
              "    }\n",
              "</style>\n",
              "<table border=\"1\" class=\"dataframe\">\n",
              "  <thead>\n",
              "    <tr style=\"text-align: right;\">\n",
              "      <th></th>\n",
              "      <th>ID</th>\n",
              "      <th>sex</th>\n",
              "      <th>marital_status</th>\n",
              "      <th>birth_year</th>\n",
              "      <th>branch_code</th>\n",
              "      <th>occupation_code</th>\n",
              "      <th>occupation_category_code</th>\n",
              "      <th>target</th>\n",
              "      <th>join_month</th>\n",
              "      <th>join_year</th>\n",
              "      <th>join_age</th>\n",
              "    </tr>\n",
              "  </thead>\n",
              "  <tbody>\n",
              "    <tr>\n",
              "      <th>0</th>\n",
              "      <td>4WKQSBB</td>\n",
              "      <td>F</td>\n",
              "      <td>M</td>\n",
              "      <td>1987</td>\n",
              "      <td>1X1H</td>\n",
              "      <td>2A7I</td>\n",
              "      <td>T4MS</td>\n",
              "      <td>RVSZ</td>\n",
              "      <td>2</td>\n",
              "      <td>2019</td>\n",
              "      <td>32</td>\n",
              "    </tr>\n",
              "    <tr>\n",
              "      <th>1</th>\n",
              "      <td>4WKQSBB</td>\n",
              "      <td>F</td>\n",
              "      <td>M</td>\n",
              "      <td>1987</td>\n",
              "      <td>1X1H</td>\n",
              "      <td>2A7I</td>\n",
              "      <td>T4MS</td>\n",
              "      <td>K6QO</td>\n",
              "      <td>2</td>\n",
              "      <td>2019</td>\n",
              "      <td>32</td>\n",
              "    </tr>\n",
              "  </tbody>\n",
              "</table>\n",
              "</div>"
            ],
            "text/plain": [
              "        ID sex marital_status  ...  join_month join_year join_age\n",
              "0  4WKQSBB   F              M  ...           2      2019       32\n",
              "1  4WKQSBB   F              M  ...           2      2019       32\n",
              "\n",
              "[2 rows x 11 columns]"
            ]
          },
          "metadata": {
            "tags": []
          },
          "execution_count": 20
        }
      ]
    },
    {
      "cell_type": "code",
      "metadata": {
        "id": "WfxYZMDf30Ow",
        "colab_type": "code",
        "colab": {
          "base_uri": "https://localhost:8080/",
          "height": 112
        },
        "outputId": "8e0a4814-8b3c-419b-8ac6-62f80c7c1ac8"
      },
      "source": [
        "x_test.head(2)"
      ],
      "execution_count": 21,
      "outputs": [
        {
          "output_type": "execute_result",
          "data": {
            "text/html": [
              "<div>\n",
              "<style scoped>\n",
              "    .dataframe tbody tr th:only-of-type {\n",
              "        vertical-align: middle;\n",
              "    }\n",
              "\n",
              "    .dataframe tbody tr th {\n",
              "        vertical-align: top;\n",
              "    }\n",
              "\n",
              "    .dataframe thead th {\n",
              "        text-align: right;\n",
              "    }\n",
              "</style>\n",
              "<table border=\"1\" class=\"dataframe\">\n",
              "  <thead>\n",
              "    <tr style=\"text-align: right;\">\n",
              "      <th></th>\n",
              "      <th>ID</th>\n",
              "      <th>sex</th>\n",
              "      <th>marital_status</th>\n",
              "      <th>birth_year</th>\n",
              "      <th>branch_code</th>\n",
              "      <th>occupation_code</th>\n",
              "      <th>occupation_category_code</th>\n",
              "      <th>join_month</th>\n",
              "      <th>join_year</th>\n",
              "      <th>join_age</th>\n",
              "    </tr>\n",
              "  </thead>\n",
              "  <tbody>\n",
              "    <tr>\n",
              "      <th>0</th>\n",
              "      <td>F86J5PC</td>\n",
              "      <td>M</td>\n",
              "      <td>M</td>\n",
              "      <td>1984</td>\n",
              "      <td>94KC</td>\n",
              "      <td>DZRV</td>\n",
              "      <td>90QI</td>\n",
              "      <td>12</td>\n",
              "      <td>2018</td>\n",
              "      <td>34</td>\n",
              "    </tr>\n",
              "    <tr>\n",
              "      <th>1</th>\n",
              "      <td>H6141K3</td>\n",
              "      <td>M</td>\n",
              "      <td>M</td>\n",
              "      <td>1996</td>\n",
              "      <td>1X1H</td>\n",
              "      <td>J9SY</td>\n",
              "      <td>90QI</td>\n",
              "      <td>10</td>\n",
              "      <td>2019</td>\n",
              "      <td>23</td>\n",
              "    </tr>\n",
              "  </tbody>\n",
              "</table>\n",
              "</div>"
            ],
            "text/plain": [
              "        ID sex marital_status  ...  join_month join_year join_age\n",
              "0  F86J5PC   M              M  ...          12      2018       34\n",
              "1  H6141K3   M              M  ...          10      2019       23\n",
              "\n",
              "[2 rows x 10 columns]"
            ]
          },
          "metadata": {
            "tags": []
          },
          "execution_count": 21
        }
      ]
    },
    {
      "cell_type": "markdown",
      "metadata": {
        "id": "j9Tz3EXbkonM",
        "colab_type": "text"
      },
      "source": [
        "## 5. Machine learning model: fit\n",
        "\n",
        "Our main machine learning tool will be a recently released [FastAI v2](https://github.com/fastai/fastai) library. "
      ]
    },
    {
      "cell_type": "code",
      "metadata": {
        "id": "--WZukoMnVRP",
        "colab_type": "code",
        "colab": {
          "base_uri": "https://localhost:8080/",
          "height": 34
        },
        "outputId": "bcd94f3a-18ce-4999-b018-9a2582443503"
      },
      "source": [
        "!pip install fastai2\n",
        "clear_output()\n",
        "\n",
        "import fastai2\n",
        "print(f\"fastai version {fastai2.__version__}\")\n",
        "\n",
        "from fastai2.tabular.all import *"
      ],
      "execution_count": 22,
      "outputs": [
        {
          "output_type": "stream",
          "text": [
            "fastai version 0.0.30\n"
          ],
          "name": "stdout"
        }
      ]
    },
    {
      "cell_type": "markdown",
      "metadata": {
        "id": "RmXxPgLY_hf1",
        "colab_type": "text"
      },
      "source": [
        "[Tabular tutorial](https://docs.fast.ai/tutorial.tabular)"
      ]
    },
    {
      "cell_type": "code",
      "metadata": {
        "id": "goVMCXv1e11M",
        "colab_type": "code",
        "colab": {
          "base_uri": "https://localhost:8080/",
          "height": 52
        },
        "outputId": "7bcfba20-b1a1-4a02-ed4d-461f51b70ed5"
      },
      "source": [
        "splits = RandomSplitter(valid_pct=0.2,seed=42)(range_of(x_train))\n",
        "splits"
      ],
      "execution_count": 23,
      "outputs": [
        {
          "output_type": "execute_result",
          "data": {
            "text/plain": [
              "((#53083) [46188,7053,51038,2589,62031,7660,52078,1235,5403,55152...],\n",
              " (#13270) [41763,16948,46338,6517,9014,31084,6988,41529,10458,16594...])"
            ]
          },
          "metadata": {
            "tags": []
          },
          "execution_count": 23
        }
      ]
    },
    {
      "cell_type": "markdown",
      "metadata": {
        "id": "1a6tWYC3NUW9",
        "colab_type": "text"
      },
      "source": [
        "Our data is in different formats: strings, integers, floats. Before feeding it to the machine learning algorithm (such as the neural network), we must convert it into the numbers i.e. encode the categorical features such as branch code, sex, matiral status etc. You can read more about it in [this article](https://towardsdatascience.com/encoding-categorical-features-21a2651a065c). Here we use a label encoder as implemented in sklearn library. Our data can then beack decoded back to the original format using the inverse transform."
      ]
    },
    {
      "cell_type": "code",
      "metadata": {
        "id": "dhydBa1yhbhq",
        "colab_type": "code",
        "colab": {
          "base_uri": "https://localhost:8080/",
          "height": 363
        },
        "outputId": "73eada18-7d1b-4f32-af70-a63ef842ac11"
      },
      "source": [
        "data_tab = TabularPandas(x_train,\n",
        "                         cat_names = ['sex', 'marital_status', 'branch_code', 'occupation_code', 'occupation_category_code'],\n",
        "                         cont_names=['join_age', 'join_month', 'join_year', 'birth_year'],\n",
        "                         y_names='target',\n",
        "                         procs=[Categorify, FillMissing,Normalize],\n",
        "                         splits=splits)\n",
        "data = data_tab.dataloaders(bs=64)\n",
        "data.show_batch()"
      ],
      "execution_count": 24,
      "outputs": [
        {
          "output_type": "display_data",
          "data": {
            "text/html": [
              "<table border=\"1\" class=\"dataframe\">\n",
              "  <thead>\n",
              "    <tr style=\"text-align: right;\">\n",
              "      <th></th>\n",
              "      <th>sex</th>\n",
              "      <th>marital_status</th>\n",
              "      <th>branch_code</th>\n",
              "      <th>occupation_code</th>\n",
              "      <th>occupation_category_code</th>\n",
              "      <th>join_age</th>\n",
              "      <th>join_month</th>\n",
              "      <th>join_year</th>\n",
              "      <th>birth_year</th>\n",
              "      <th>target</th>\n",
              "    </tr>\n",
              "  </thead>\n",
              "  <tbody>\n",
              "    <tr>\n",
              "      <th>0</th>\n",
              "      <td>M</td>\n",
              "      <td>M</td>\n",
              "      <td>94KC</td>\n",
              "      <td>2A7I</td>\n",
              "      <td>T4MS</td>\n",
              "      <td>37.0</td>\n",
              "      <td>10.0</td>\n",
              "      <td>2019.0</td>\n",
              "      <td>1982.0</td>\n",
              "      <td>K6QO</td>\n",
              "    </tr>\n",
              "    <tr>\n",
              "      <th>1</th>\n",
              "      <td>M</td>\n",
              "      <td>M</td>\n",
              "      <td>1X1H</td>\n",
              "      <td>SST3</td>\n",
              "      <td>56SI</td>\n",
              "      <td>32.0</td>\n",
              "      <td>4.0</td>\n",
              "      <td>2019.0</td>\n",
              "      <td>1987.0</td>\n",
              "      <td>RVSZ</td>\n",
              "    </tr>\n",
              "    <tr>\n",
              "      <th>2</th>\n",
              "      <td>M</td>\n",
              "      <td>M</td>\n",
              "      <td>30H5</td>\n",
              "      <td>2A7I</td>\n",
              "      <td>T4MS</td>\n",
              "      <td>33.0</td>\n",
              "      <td>8.0</td>\n",
              "      <td>2019.0</td>\n",
              "      <td>1986.0</td>\n",
              "      <td>RVSZ</td>\n",
              "    </tr>\n",
              "    <tr>\n",
              "      <th>3</th>\n",
              "      <td>M</td>\n",
              "      <td>M</td>\n",
              "      <td>748L</td>\n",
              "      <td>OPVX</td>\n",
              "      <td>T4MS</td>\n",
              "      <td>33.0</td>\n",
              "      <td>7.0</td>\n",
              "      <td>2016.0</td>\n",
              "      <td>1983.0</td>\n",
              "      <td>RVSZ</td>\n",
              "    </tr>\n",
              "    <tr>\n",
              "      <th>4</th>\n",
              "      <td>M</td>\n",
              "      <td>M</td>\n",
              "      <td>XX25</td>\n",
              "      <td>2A7I</td>\n",
              "      <td>T4MS</td>\n",
              "      <td>47.0</td>\n",
              "      <td>6.0</td>\n",
              "      <td>2020.0</td>\n",
              "      <td>1973.0</td>\n",
              "      <td>RVSZ</td>\n",
              "    </tr>\n",
              "    <tr>\n",
              "      <th>5</th>\n",
              "      <td>F</td>\n",
              "      <td>S</td>\n",
              "      <td>1X1H</td>\n",
              "      <td>UJ5T</td>\n",
              "      <td>T4MS</td>\n",
              "      <td>50.0</td>\n",
              "      <td>3.0</td>\n",
              "      <td>2020.0</td>\n",
              "      <td>1970.0</td>\n",
              "      <td>K6QO</td>\n",
              "    </tr>\n",
              "    <tr>\n",
              "      <th>6</th>\n",
              "      <td>F</td>\n",
              "      <td>M</td>\n",
              "      <td>748L</td>\n",
              "      <td>2A7I</td>\n",
              "      <td>T4MS</td>\n",
              "      <td>52.0</td>\n",
              "      <td>8.0</td>\n",
              "      <td>2018.0</td>\n",
              "      <td>1966.0</td>\n",
              "      <td>RVSZ</td>\n",
              "    </tr>\n",
              "    <tr>\n",
              "      <th>7</th>\n",
              "      <td>F</td>\n",
              "      <td>M</td>\n",
              "      <td>748L</td>\n",
              "      <td>BPSA</td>\n",
              "      <td>90QI</td>\n",
              "      <td>49.0</td>\n",
              "      <td>8.0</td>\n",
              "      <td>2018.0</td>\n",
              "      <td>1969.0</td>\n",
              "      <td>J9JW</td>\n",
              "    </tr>\n",
              "    <tr>\n",
              "      <th>8</th>\n",
              "      <td>F</td>\n",
              "      <td>M</td>\n",
              "      <td>XX25</td>\n",
              "      <td>OPVX</td>\n",
              "      <td>T4MS</td>\n",
              "      <td>31.0</td>\n",
              "      <td>3.0</td>\n",
              "      <td>2019.0</td>\n",
              "      <td>1988.0</td>\n",
              "      <td>RVSZ</td>\n",
              "    </tr>\n",
              "    <tr>\n",
              "      <th>9</th>\n",
              "      <td>F</td>\n",
              "      <td>M</td>\n",
              "      <td>748L</td>\n",
              "      <td>2A7I</td>\n",
              "      <td>T4MS</td>\n",
              "      <td>33.0</td>\n",
              "      <td>4.0</td>\n",
              "      <td>2020.0</td>\n",
              "      <td>1987.0</td>\n",
              "      <td>GHYX</td>\n",
              "    </tr>\n",
              "  </tbody>\n",
              "</table>"
            ],
            "text/plain": [
              "<IPython.core.display.HTML object>"
            ]
          },
          "metadata": {
            "tags": []
          }
        }
      ]
    },
    {
      "cell_type": "markdown",
      "metadata": {
        "id": "p1jHX2yE8Fzg",
        "colab_type": "text"
      },
      "source": [
        "Fit the model"
      ]
    },
    {
      "cell_type": "code",
      "metadata": {
        "id": "mVFw2mTrYeZj",
        "colab_type": "code",
        "colab": {
          "base_uri": "https://localhost:8080/",
          "height": 677
        },
        "outputId": "1bd54bd1-2b79-4edf-e0a2-e97755596f01"
      },
      "source": [
        "learn = tabular_learner(data, metrics=accuracy)\n",
        "learn.fit_one_cycle(1)"
      ],
      "execution_count": 25,
      "outputs": [
        {
          "output_type": "display_data",
          "data": {
            "text/html": [
              "<table border=\"1\" class=\"dataframe\">\n",
              "  <thead>\n",
              "    <tr style=\"text-align: left;\">\n",
              "      <th>epoch</th>\n",
              "      <th>train_loss</th>\n",
              "      <th>valid_loss</th>\n",
              "      <th>accuracy</th>\n",
              "      <th>time</th>\n",
              "    </tr>\n",
              "  </thead>\n",
              "  <tbody>\n",
              "    <tr>\n",
              "      <td>0</td>\n",
              "      <td>1.563684</td>\n",
              "      <td>1.560249</td>\n",
              "      <td>0.379352</td>\n",
              "      <td>00:13</td>\n",
              "    </tr>\n",
              "    <tr>\n",
              "      <td>1</td>\n",
              "      <td>1.493483</td>\n",
              "      <td>1.483259</td>\n",
              "      <td>0.377317</td>\n",
              "      <td>00:13</td>\n",
              "    </tr>\n",
              "    <tr>\n",
              "      <td>2</td>\n",
              "      <td>1.462631</td>\n",
              "      <td>1.460695</td>\n",
              "      <td>0.377769</td>\n",
              "      <td>00:12</td>\n",
              "    </tr>\n",
              "    <tr>\n",
              "      <td>3</td>\n",
              "      <td>1.439037</td>\n",
              "      <td>1.450538</td>\n",
              "      <td>0.376338</td>\n",
              "      <td>00:13</td>\n",
              "    </tr>\n",
              "    <tr>\n",
              "      <td>4</td>\n",
              "      <td>1.447324</td>\n",
              "      <td>1.444186</td>\n",
              "      <td>0.384928</td>\n",
              "      <td>00:13</td>\n",
              "    </tr>\n",
              "    <tr>\n",
              "      <td>5</td>\n",
              "      <td>1.419987</td>\n",
              "      <td>1.437411</td>\n",
              "      <td>0.388018</td>\n",
              "      <td>00:13</td>\n",
              "    </tr>\n",
              "    <tr>\n",
              "      <td>6</td>\n",
              "      <td>1.414812</td>\n",
              "      <td>1.442777</td>\n",
              "      <td>0.378071</td>\n",
              "      <td>00:13</td>\n",
              "    </tr>\n",
              "    <tr>\n",
              "      <td>7</td>\n",
              "      <td>1.404246</td>\n",
              "      <td>1.439579</td>\n",
              "      <td>0.382818</td>\n",
              "      <td>00:13</td>\n",
              "    </tr>\n",
              "    <tr>\n",
              "      <td>8</td>\n",
              "      <td>1.395232</td>\n",
              "      <td>1.439391</td>\n",
              "      <td>0.379503</td>\n",
              "      <td>00:13</td>\n",
              "    </tr>\n",
              "    <tr>\n",
              "      <td>9</td>\n",
              "      <td>1.424394</td>\n",
              "      <td>1.437088</td>\n",
              "      <td>0.376187</td>\n",
              "      <td>00:12</td>\n",
              "    </tr>\n",
              "    <tr>\n",
              "      <td>10</td>\n",
              "      <td>1.373408</td>\n",
              "      <td>1.432823</td>\n",
              "      <td>0.377393</td>\n",
              "      <td>00:13</td>\n",
              "    </tr>\n",
              "    <tr>\n",
              "      <td>11</td>\n",
              "      <td>1.366705</td>\n",
              "      <td>1.437582</td>\n",
              "      <td>0.386209</td>\n",
              "      <td>00:13</td>\n",
              "    </tr>\n",
              "    <tr>\n",
              "      <td>12</td>\n",
              "      <td>1.340834</td>\n",
              "      <td>1.437268</td>\n",
              "      <td>0.371967</td>\n",
              "      <td>00:13</td>\n",
              "    </tr>\n",
              "    <tr>\n",
              "      <td>13</td>\n",
              "      <td>1.338358</td>\n",
              "      <td>1.439071</td>\n",
              "      <td>0.371063</td>\n",
              "      <td>00:13</td>\n",
              "    </tr>\n",
              "    <tr>\n",
              "      <td>14</td>\n",
              "      <td>1.340652</td>\n",
              "      <td>1.440913</td>\n",
              "      <td>0.365863</td>\n",
              "      <td>00:13</td>\n",
              "    </tr>\n",
              "    <tr>\n",
              "      <td>15</td>\n",
              "      <td>1.345459</td>\n",
              "      <td>1.440860</td>\n",
              "      <td>0.364130</td>\n",
              "      <td>00:13</td>\n",
              "    </tr>\n",
              "    <tr>\n",
              "      <td>16</td>\n",
              "      <td>1.329051</td>\n",
              "      <td>1.438745</td>\n",
              "      <td>0.359231</td>\n",
              "      <td>00:12</td>\n",
              "    </tr>\n",
              "    <tr>\n",
              "      <td>17</td>\n",
              "      <td>1.313592</td>\n",
              "      <td>1.442297</td>\n",
              "      <td>0.363677</td>\n",
              "      <td>00:13</td>\n",
              "    </tr>\n",
              "    <tr>\n",
              "      <td>18</td>\n",
              "      <td>1.318326</td>\n",
              "      <td>1.443197</td>\n",
              "      <td>0.361567</td>\n",
              "      <td>00:13</td>\n",
              "    </tr>\n",
              "    <tr>\n",
              "      <td>19</td>\n",
              "      <td>1.317426</td>\n",
              "      <td>1.441893</td>\n",
              "      <td>0.362246</td>\n",
              "      <td>00:13</td>\n",
              "    </tr>\n",
              "  </tbody>\n",
              "</table>"
            ],
            "text/plain": [
              "<IPython.core.display.HTML object>"
            ]
          },
          "metadata": {
            "tags": []
          }
        }
      ]
    },
    {
      "cell_type": "code",
      "metadata": {
        "id": "iSX0sd1Hi04G",
        "colab_type": "code",
        "colab": {
          "base_uri": "https://localhost:8080/",
          "height": 332
        },
        "outputId": "5461fa6d-58ee-4a07-d42c-80070ab0660c"
      },
      "source": [
        "learn.show_results()"
      ],
      "execution_count": 26,
      "outputs": [
        {
          "output_type": "display_data",
          "data": {
            "text/html": [
              ""
            ],
            "text/plain": [
              "<IPython.core.display.HTML object>"
            ]
          },
          "metadata": {
            "tags": []
          }
        },
        {
          "output_type": "display_data",
          "data": {
            "text/html": [
              "<table border=\"1\" class=\"dataframe\">\n",
              "  <thead>\n",
              "    <tr style=\"text-align: right;\">\n",
              "      <th></th>\n",
              "      <th>sex</th>\n",
              "      <th>marital_status</th>\n",
              "      <th>branch_code</th>\n",
              "      <th>occupation_code</th>\n",
              "      <th>occupation_category_code</th>\n",
              "      <th>join_age</th>\n",
              "      <th>join_month</th>\n",
              "      <th>join_year</th>\n",
              "      <th>birth_year</th>\n",
              "      <th>target</th>\n",
              "      <th>target_pred</th>\n",
              "    </tr>\n",
              "  </thead>\n",
              "  <tbody>\n",
              "    <tr>\n",
              "      <th>0</th>\n",
              "      <td>2.0</td>\n",
              "      <td>3.0</td>\n",
              "      <td>8.0</td>\n",
              "      <td>38.0</td>\n",
              "      <td>6.0</td>\n",
              "      <td>2.330391</td>\n",
              "      <td>1.078244</td>\n",
              "      <td>0.662024</td>\n",
              "      <td>-2.177204</td>\n",
              "      <td>17.0</td>\n",
              "      <td>17.0</td>\n",
              "    </tr>\n",
              "    <tr>\n",
              "      <th>1</th>\n",
              "      <td>1.0</td>\n",
              "      <td>3.0</td>\n",
              "      <td>3.0</td>\n",
              "      <td>18.0</td>\n",
              "      <td>6.0</td>\n",
              "      <td>0.813987</td>\n",
              "      <td>0.184553</td>\n",
              "      <td>-1.401402</td>\n",
              "      <td>-1.101068</td>\n",
              "      <td>14.0</td>\n",
              "      <td>14.0</td>\n",
              "    </tr>\n",
              "    <tr>\n",
              "      <th>2</th>\n",
              "      <td>2.0</td>\n",
              "      <td>3.0</td>\n",
              "      <td>4.0</td>\n",
              "      <td>18.0</td>\n",
              "      <td>6.0</td>\n",
              "      <td>1.030616</td>\n",
              "      <td>0.184553</td>\n",
              "      <td>0.146167</td>\n",
              "      <td>-0.993454</td>\n",
              "      <td>19.0</td>\n",
              "      <td>12.0</td>\n",
              "    </tr>\n",
              "    <tr>\n",
              "      <th>3</th>\n",
              "      <td>2.0</td>\n",
              "      <td>3.0</td>\n",
              "      <td>12.0</td>\n",
              "      <td>200.0</td>\n",
              "      <td>6.0</td>\n",
              "      <td>-0.377474</td>\n",
              "      <td>-0.709137</td>\n",
              "      <td>0.662024</td>\n",
              "      <td>0.513137</td>\n",
              "      <td>19.0</td>\n",
              "      <td>12.0</td>\n",
              "    </tr>\n",
              "    <tr>\n",
              "      <th>4</th>\n",
              "      <td>1.0</td>\n",
              "      <td>3.0</td>\n",
              "      <td>14.0</td>\n",
              "      <td>3.0</td>\n",
              "      <td>6.0</td>\n",
              "      <td>-0.269159</td>\n",
              "      <td>0.482450</td>\n",
              "      <td>-0.885546</td>\n",
              "      <td>0.082682</td>\n",
              "      <td>12.0</td>\n",
              "      <td>19.0</td>\n",
              "    </tr>\n",
              "    <tr>\n",
              "      <th>5</th>\n",
              "      <td>2.0</td>\n",
              "      <td>3.0</td>\n",
              "      <td>5.0</td>\n",
              "      <td>18.0</td>\n",
              "      <td>6.0</td>\n",
              "      <td>0.489043</td>\n",
              "      <td>-1.007034</td>\n",
              "      <td>1.177880</td>\n",
              "      <td>-0.240159</td>\n",
              "      <td>19.0</td>\n",
              "      <td>19.0</td>\n",
              "    </tr>\n",
              "    <tr>\n",
              "      <th>6</th>\n",
              "      <td>1.0</td>\n",
              "      <td>7.0</td>\n",
              "      <td>4.0</td>\n",
              "      <td>4.0</td>\n",
              "      <td>6.0</td>\n",
              "      <td>-0.810732</td>\n",
              "      <td>0.780347</td>\n",
              "      <td>-3.464828</td>\n",
              "      <td>0.082682</td>\n",
              "      <td>16.0</td>\n",
              "      <td>18.0</td>\n",
              "    </tr>\n",
              "    <tr>\n",
              "      <th>7</th>\n",
              "      <td>2.0</td>\n",
              "      <td>3.0</td>\n",
              "      <td>3.0</td>\n",
              "      <td>18.0</td>\n",
              "      <td>6.0</td>\n",
              "      <td>-1.027361</td>\n",
              "      <td>-0.709137</td>\n",
              "      <td>1.177880</td>\n",
              "      <td>1.266432</td>\n",
              "      <td>14.0</td>\n",
              "      <td>3.0</td>\n",
              "    </tr>\n",
              "    <tr>\n",
              "      <th>8</th>\n",
              "      <td>1.0</td>\n",
              "      <td>3.0</td>\n",
              "      <td>2.0</td>\n",
              "      <td>18.0</td>\n",
              "      <td>6.0</td>\n",
              "      <td>0.055785</td>\n",
              "      <td>1.376141</td>\n",
              "      <td>0.662024</td>\n",
              "      <td>0.082682</td>\n",
              "      <td>19.0</td>\n",
              "      <td>19.0</td>\n",
              "    </tr>\n",
              "  </tbody>\n",
              "</table>"
            ],
            "text/plain": [
              "<IPython.core.display.HTML object>"
            ]
          },
          "metadata": {
            "tags": []
          }
        }
      ]
    },
    {
      "cell_type": "markdown",
      "metadata": {
        "id": "cP2l2rONsJTk",
        "colab_type": "text"
      },
      "source": [
        "## 6. Machine learning model: inference.\n",
        "\n",
        "<u>**Predict_probability**</u>: apply the model to the given dataset to predict the probability that the object belongs to the given classes."
      ]
    },
    {
      "cell_type": "code",
      "metadata": {
        "id": "8nepYeunmu82",
        "colab_type": "code",
        "colab": {
          "base_uri": "https://localhost:8080/",
          "height": 226
        },
        "outputId": "26497578-3ef6-430f-b585-33fcc54d8a6d"
      },
      "source": [
        "# create a DataLoaders object from the test dataframe/\n",
        "test_dl = data.test_dl(x_test)\n",
        "\n",
        "# predict the likelihood (inference)\n",
        "predict = learn.get_preds(dl=test_dl)\n",
        "\n",
        "# transform the predict object into the dataframe\n",
        "df_predict = pd.DataFrame(predict[0], columns=product_names)\n",
        "\n",
        "# add a column with the customer ID \n",
        "df_predict['ID'] = x_test['ID']\n",
        "\n",
        "df_predict.head()"
      ],
      "execution_count": 27,
      "outputs": [
        {
          "output_type": "display_data",
          "data": {
            "text/html": [
              ""
            ],
            "text/plain": [
              "<IPython.core.display.HTML object>"
            ]
          },
          "metadata": {
            "tags": []
          }
        },
        {
          "output_type": "execute_result",
          "data": {
            "text/html": [
              "<div>\n",
              "<style scoped>\n",
              "    .dataframe tbody tr th:only-of-type {\n",
              "        vertical-align: middle;\n",
              "    }\n",
              "\n",
              "    .dataframe tbody tr th {\n",
              "        vertical-align: top;\n",
              "    }\n",
              "\n",
              "    .dataframe thead th {\n",
              "        text-align: right;\n",
              "    }\n",
              "</style>\n",
              "<table border=\"1\" class=\"dataframe\">\n",
              "  <thead>\n",
              "    <tr style=\"text-align: right;\">\n",
              "      <th></th>\n",
              "      <th>P5DA</th>\n",
              "      <th>RIBP</th>\n",
              "      <th>8NN1</th>\n",
              "      <th>7POT</th>\n",
              "      <th>66FJ</th>\n",
              "      <th>GYSR</th>\n",
              "      <th>SOP4</th>\n",
              "      <th>RVSZ</th>\n",
              "      <th>PYUQ</th>\n",
              "      <th>LJR9</th>\n",
              "      <th>N2MW</th>\n",
              "      <th>AHXO</th>\n",
              "      <th>BSTQ</th>\n",
              "      <th>FM3X</th>\n",
              "      <th>K6QO</th>\n",
              "      <th>QBOL</th>\n",
              "      <th>JWFN</th>\n",
              "      <th>JZ9D</th>\n",
              "      <th>J9JW</th>\n",
              "      <th>GHYX</th>\n",
              "      <th>ECY3</th>\n",
              "      <th>ID</th>\n",
              "    </tr>\n",
              "  </thead>\n",
              "  <tbody>\n",
              "    <tr>\n",
              "      <th>0</th>\n",
              "      <td>0.000272</td>\n",
              "      <td>1.454650e-05</td>\n",
              "      <td>6.602742e-07</td>\n",
              "      <td>0.000018</td>\n",
              "      <td>2.633869e-05</td>\n",
              "      <td>0.023652</td>\n",
              "      <td>4.809650e-08</td>\n",
              "      <td>0.026197</td>\n",
              "      <td>1.866606e-08</td>\n",
              "      <td>0.002621</td>\n",
              "      <td>0.000087</td>\n",
              "      <td>0.002929</td>\n",
              "      <td>0.430628</td>\n",
              "      <td>3.780526e-04</td>\n",
              "      <td>0.000107</td>\n",
              "      <td>3.291062e-07</td>\n",
              "      <td>0.001484</td>\n",
              "      <td>0.054035</td>\n",
              "      <td>0.000634</td>\n",
              "      <td>0.456330</td>\n",
              "      <td>0.000588</td>\n",
              "      <td>F86J5PC</td>\n",
              "    </tr>\n",
              "    <tr>\n",
              "      <th>1</th>\n",
              "      <td>0.000029</td>\n",
              "      <td>1.471682e-06</td>\n",
              "      <td>5.494080e-12</td>\n",
              "      <td>0.000006</td>\n",
              "      <td>7.273773e-07</td>\n",
              "      <td>0.009989</td>\n",
              "      <td>1.036712e-11</td>\n",
              "      <td>0.009408</td>\n",
              "      <td>4.080658e-12</td>\n",
              "      <td>0.000074</td>\n",
              "      <td>0.000363</td>\n",
              "      <td>0.000073</td>\n",
              "      <td>0.462664</td>\n",
              "      <td>6.434595e-07</td>\n",
              "      <td>0.000021</td>\n",
              "      <td>5.740256e-12</td>\n",
              "      <td>0.000006</td>\n",
              "      <td>0.004512</td>\n",
              "      <td>0.000130</td>\n",
              "      <td>0.512719</td>\n",
              "      <td>0.000003</td>\n",
              "      <td>H6141K3</td>\n",
              "    </tr>\n",
              "    <tr>\n",
              "      <th>2</th>\n",
              "      <td>0.000022</td>\n",
              "      <td>5.404498e-06</td>\n",
              "      <td>4.471389e-10</td>\n",
              "      <td>0.002233</td>\n",
              "      <td>6.567420e-05</td>\n",
              "      <td>0.017710</td>\n",
              "      <td>2.943203e-08</td>\n",
              "      <td>0.002708</td>\n",
              "      <td>9.617344e-10</td>\n",
              "      <td>0.007260</td>\n",
              "      <td>0.000179</td>\n",
              "      <td>0.007533</td>\n",
              "      <td>0.299196</td>\n",
              "      <td>2.776487e-04</td>\n",
              "      <td>0.009710</td>\n",
              "      <td>6.452240e-09</td>\n",
              "      <td>0.001967</td>\n",
              "      <td>0.160660</td>\n",
              "      <td>0.000737</td>\n",
              "      <td>0.489700</td>\n",
              "      <td>0.000036</td>\n",
              "      <td>RBAYUXZ</td>\n",
              "    </tr>\n",
              "    <tr>\n",
              "      <th>3</th>\n",
              "      <td>0.000027</td>\n",
              "      <td>2.120903e-05</td>\n",
              "      <td>7.586539e-12</td>\n",
              "      <td>0.000289</td>\n",
              "      <td>8.689841e-05</td>\n",
              "      <td>0.009112</td>\n",
              "      <td>5.024915e-06</td>\n",
              "      <td>0.012575</td>\n",
              "      <td>1.848821e-09</td>\n",
              "      <td>0.017770</td>\n",
              "      <td>0.001345</td>\n",
              "      <td>0.013306</td>\n",
              "      <td>0.449780</td>\n",
              "      <td>1.080140e-04</td>\n",
              "      <td>0.000454</td>\n",
              "      <td>1.380941e-07</td>\n",
              "      <td>0.001032</td>\n",
              "      <td>0.027782</td>\n",
              "      <td>0.000082</td>\n",
              "      <td>0.466130</td>\n",
              "      <td>0.000095</td>\n",
              "      <td>KCBILBQ</td>\n",
              "    </tr>\n",
              "    <tr>\n",
              "      <th>4</th>\n",
              "      <td>0.000002</td>\n",
              "      <td>7.594521e-07</td>\n",
              "      <td>2.735756e-11</td>\n",
              "      <td>0.000022</td>\n",
              "      <td>6.317606e-03</td>\n",
              "      <td>0.000772</td>\n",
              "      <td>4.178644e-06</td>\n",
              "      <td>0.007759</td>\n",
              "      <td>1.217782e-09</td>\n",
              "      <td>0.363090</td>\n",
              "      <td>0.000643</td>\n",
              "      <td>0.357613</td>\n",
              "      <td>0.072626</td>\n",
              "      <td>1.011598e-04</td>\n",
              "      <td>0.000516</td>\n",
              "      <td>3.054495e-08</td>\n",
              "      <td>0.016597</td>\n",
              "      <td>0.060490</td>\n",
              "      <td>0.000019</td>\n",
              "      <td>0.113423</td>\n",
              "      <td>0.000003</td>\n",
              "      <td>LSEC1ZJ</td>\n",
              "    </tr>\n",
              "  </tbody>\n",
              "</table>\n",
              "</div>"
            ],
            "text/plain": [
              "       P5DA          RIBP          8NN1  ...      GHYX      ECY3       ID\n",
              "0  0.000272  1.454650e-05  6.602742e-07  ...  0.456330  0.000588  F86J5PC\n",
              "1  0.000029  1.471682e-06  5.494080e-12  ...  0.512719  0.000003  H6141K3\n",
              "2  0.000022  5.404498e-06  4.471389e-10  ...  0.489700  0.000036  RBAYUXZ\n",
              "3  0.000027  2.120903e-05  7.586539e-12  ...  0.466130  0.000095  KCBILBQ\n",
              "4  0.000002  7.594521e-07  2.735756e-11  ...  0.113423  0.000003  LSEC1ZJ\n",
              "\n",
              "[5 rows x 22 columns]"
            ]
          },
          "metadata": {
            "tags": []
          },
          "execution_count": 27
        }
      ]
    },
    {
      "cell_type": "markdown",
      "metadata": {
        "id": "CLfoQohg8ZHX",
        "colab_type": "text"
      },
      "source": [
        "## 7. Prepare the submit file"
      ]
    },
    {
      "cell_type": "code",
      "metadata": {
        "id": "Sf-LKN3mPI7p",
        "colab_type": "code",
        "colab": {}
      },
      "source": [
        "def change_format(df):\n",
        "  '''\n",
        "  ---\n",
        "  '''\n",
        "  target_list = []\n",
        "  for i, row in enumerate(df.values):\n",
        "    customer_id = row[-1]\n",
        "    for j, product_id in enumerate(df.columns[:-1]):\n",
        "      target_list.append(np.append(customer_id+' X '+product_id,row[j]))\n",
        "\n",
        "  df_target = pd.DataFrame(target_list, columns=['ID X PCODE', 'target'])\n",
        "\n",
        "  return(df_target)\n",
        "\n",
        "y_test_predict = change_format(df_predict)"
      ],
      "execution_count": 28,
      "outputs": []
    },
    {
      "cell_type": "markdown",
      "metadata": {
        "id": "indy4mWqry3b",
        "colab_type": "text"
      },
      "source": [
        "See [here](https://zindi.africa/competitions/zimnat-insurance-recommendation-challenge/discussions/2483) and [here](https://zindi.africa/competitions/zimnat-insurance-recommendation-challenge/discussions/2004).\n",
        "\n",
        "\"Notice that the sample submission contains 1s for the products that are included in the test set, so that you can focus on the unknown products\" , leave 1s as it is because we already know that product is purchased by the customer. For the rest of it, what is the classifier is predicting, leave it as probability between 0 or 1.\n",
        "\n"
      ]
    },
    {
      "cell_type": "code",
      "metadata": {
        "id": "Z_tGqj55UKms",
        "colab_type": "code",
        "colab": {
          "base_uri": "https://localhost:8080/",
          "height": 206
        },
        "outputId": "e42050d1-c919-4cd3-fdf3-033b4d7bdbe4"
      },
      "source": [
        "# sum predict and target values: \n",
        "y_test_predict['sum_target'] = y_test_predict['target'].astype(np.float64).add(y_test_target['target'].astype(np.float64))\n",
        "\n",
        "a = np.array(y_test_predict['sum_target'].values.tolist())\n",
        "y_test_predict['Label'] = np.where(a > 1., 1., a).tolist()\n",
        "\n",
        "# final dataframe in a submission format\n",
        "df_output = y_test_predict.drop(columns=['sum_target', 'target'])\n",
        "df_output.head()"
      ],
      "execution_count": 29,
      "outputs": [
        {
          "output_type": "execute_result",
          "data": {
            "text/html": [
              "<div>\n",
              "<style scoped>\n",
              "    .dataframe tbody tr th:only-of-type {\n",
              "        vertical-align: middle;\n",
              "    }\n",
              "\n",
              "    .dataframe tbody tr th {\n",
              "        vertical-align: top;\n",
              "    }\n",
              "\n",
              "    .dataframe thead th {\n",
              "        text-align: right;\n",
              "    }\n",
              "</style>\n",
              "<table border=\"1\" class=\"dataframe\">\n",
              "  <thead>\n",
              "    <tr style=\"text-align: right;\">\n",
              "      <th></th>\n",
              "      <th>ID X PCODE</th>\n",
              "      <th>Label</th>\n",
              "    </tr>\n",
              "  </thead>\n",
              "  <tbody>\n",
              "    <tr>\n",
              "      <th>0</th>\n",
              "      <td>F86J5PC X P5DA</td>\n",
              "      <td>2.720242e-04</td>\n",
              "    </tr>\n",
              "    <tr>\n",
              "      <th>1</th>\n",
              "      <td>F86J5PC X RIBP</td>\n",
              "      <td>1.454650e-05</td>\n",
              "    </tr>\n",
              "    <tr>\n",
              "      <th>2</th>\n",
              "      <td>F86J5PC X 8NN1</td>\n",
              "      <td>6.602742e-07</td>\n",
              "    </tr>\n",
              "    <tr>\n",
              "      <th>3</th>\n",
              "      <td>F86J5PC X 7POT</td>\n",
              "      <td>1.812740e-05</td>\n",
              "    </tr>\n",
              "    <tr>\n",
              "      <th>4</th>\n",
              "      <td>F86J5PC X 66FJ</td>\n",
              "      <td>2.633869e-05</td>\n",
              "    </tr>\n",
              "  </tbody>\n",
              "</table>\n",
              "</div>"
            ],
            "text/plain": [
              "       ID X PCODE         Label\n",
              "0  F86J5PC X P5DA  2.720242e-04\n",
              "1  F86J5PC X RIBP  1.454650e-05\n",
              "2  F86J5PC X 8NN1  6.602742e-07\n",
              "3  F86J5PC X 7POT  1.812740e-05\n",
              "4  F86J5PC X 66FJ  2.633869e-05"
            ]
          },
          "metadata": {
            "tags": []
          },
          "execution_count": 29
        }
      ]
    },
    {
      "cell_type": "markdown",
      "metadata": {
        "id": "St96wOFPbvqo",
        "colab_type": "text"
      },
      "source": [
        "## 8. Download the file to your local machine."
      ]
    },
    {
      "cell_type": "code",
      "metadata": {
        "id": "LrnEnrnj8lvL",
        "colab_type": "code",
        "colab": {}
      },
      "source": [
        "df_output.reset_index(drop=True, inplace=True)\n",
        "df_output.to_csv('submission_predict_true.csv', index=False)"
      ],
      "execution_count": 30,
      "outputs": []
    },
    {
      "cell_type": "code",
      "metadata": {
        "id": "psGQ8Z4zbBmh",
        "colab_type": "code",
        "colab": {
          "base_uri": "https://localhost:8080/",
          "height": 17
        },
        "outputId": "ebe626b3-a507-49a2-9391-3f0be68998e4"
      },
      "source": [
        "from google.colab import files\n",
        "\n",
        "files.download('submission_predict_true.csv')"
      ],
      "execution_count": 31,
      "outputs": [
        {
          "output_type": "display_data",
          "data": {
            "application/javascript": [
              "\n",
              "    async function download(id, filename, size) {\n",
              "      if (!google.colab.kernel.accessAllowed) {\n",
              "        return;\n",
              "      }\n",
              "      const div = document.createElement('div');\n",
              "      const label = document.createElement('label');\n",
              "      label.textContent = `Downloading \"${filename}\": `;\n",
              "      div.appendChild(label);\n",
              "      const progress = document.createElement('progress');\n",
              "      progress.max = size;\n",
              "      div.appendChild(progress);\n",
              "      document.body.appendChild(div);\n",
              "\n",
              "      const buffers = [];\n",
              "      let downloaded = 0;\n",
              "\n",
              "      const channel = await google.colab.kernel.comms.open(id);\n",
              "      // Send a message to notify the kernel that we're ready.\n",
              "      channel.send({})\n",
              "\n",
              "      for await (const message of channel.messages) {\n",
              "        // Send a message to notify the kernel that we're ready.\n",
              "        channel.send({})\n",
              "        if (message.buffers) {\n",
              "          for (const buffer of message.buffers) {\n",
              "            buffers.push(buffer);\n",
              "            downloaded += buffer.byteLength;\n",
              "            progress.value = downloaded;\n",
              "          }\n",
              "        }\n",
              "      }\n",
              "      const blob = new Blob(buffers, {type: 'application/binary'});\n",
              "      const a = document.createElement('a');\n",
              "      a.href = window.URL.createObjectURL(blob);\n",
              "      a.download = filename;\n",
              "      div.appendChild(a);\n",
              "      a.click();\n",
              "      div.remove();\n",
              "    }\n",
              "  "
            ],
            "text/plain": [
              "<IPython.core.display.Javascript object>"
            ]
          },
          "metadata": {
            "tags": []
          }
        },
        {
          "output_type": "display_data",
          "data": {
            "application/javascript": [
              "download(\"download_170df57c-6c40-4c15-8e4c-9557c2388be2\", \"submission_predict_true.csv\", 7441780)"
            ],
            "text/plain": [
              "<IPython.core.display.Javascript object>"
            ]
          },
          "metadata": {
            "tags": []
          }
        }
      ]
    },
    {
      "cell_type": "markdown",
      "metadata": {
        "id": "BJpvOSeRhBEF",
        "colab_type": "text"
      },
      "source": [
        "# 0.335820149303918 result"
      ]
    }
  ]
}